{
 "metadata": {
  "language_info": {
   "codemirror_mode": {
    "name": "ipython",
    "version": 3
   },
   "file_extension": ".py",
   "mimetype": "text/x-python",
   "name": "python",
   "nbconvert_exporter": "python",
   "pygments_lexer": "ipython3",
   "version": "3.8.8"
  },
  "orig_nbformat": 2,
  "kernelspec": {
   "name": "python388jvsc74a57bd0dec5e0581fddb23ffc3cb134b2a92b0670ea09c64d0a86d0690e721ac6a329c6",
   "display_name": "Python 3.8.8 64-bit ('decisionpy': conda)"
  },
  "metadata": {
   "interpreter": {
    "hash": "dec5e0581fddb23ffc3cb134b2a92b0670ea09c64d0a86d0690e721ac6a329c6"
   }
  }
 },
 "nbformat": 4,
 "nbformat_minor": 2,
 "cells": [
  {
   "cell_type": "code",
   "execution_count": 1,
   "metadata": {},
   "outputs": [],
   "source": [
    "import numpy as np \n",
    "from decisionpy.decisiontree import Node\n",
    "import yaml"
   ]
  },
  {
   "cell_type": "code",
   "execution_count": 2,
   "metadata": {},
   "outputs": [
    {
     "output_type": "stream",
     "name": "stderr",
     "text": [
      "<ipython-input-2-d68270d9e904>:2: YAMLLoadWarning: calling yaml.load() without Loader=... is deprecated, as the default Loader is unsafe. Please read https://msg.pyyaml.org/load for full details.\n  case_dict = yaml.load(file)\n"
     ]
    }
   ],
   "source": [
    "with open('DTree_basicfile3.yml','r') as file:\n",
    "    case_dict = yaml.load(file)"
   ]
  },
  {
   "cell_type": "code",
   "execution_count": 3,
   "metadata": {},
   "outputs": [],
   "source": [
    "c = Node(**case_dict)"
   ]
  },
  {
   "cell_type": "code",
   "execution_count": 4,
   "metadata": {},
   "outputs": [
    {
     "output_type": "execute_result",
     "data": {
      "text/plain": [
       "⬛ \u001b[1;4mLanzamiento\u001b[0m 💯 \u001b[1;34mValue\u001b[0m: \u001b[1;4;36m0.0\u001b[0m |                                                               \n",
       "┣━━ ⚪\u001b[1;4mSin_agencia\u001b[0m 💯 \u001b[1;34mValue\u001b[0m: \u001b[1;4;36m0.0\u001b[0m |                                                            \n",
       "┃   ╠══ 🔻 \u001b[1;4mExito\u001b[0m 🎲 \u001b[1;36mProb\u001b[0m: \u001b[1;4;36m0.6\u001b[0m | 💯 \u001b[1;34mValue\u001b[0m: \u001b[1;4;36m500.0\u001b[0m |                                            \n",
       "┃   ╚══ 🔻 \u001b[1;4mFracaso\u001b[0m 🎲 \u001b[1;36mProb\u001b[0m: \u001b[1;4;36m0.4\u001b[0m | 💯 \u001b[1;34mValue\u001b[0m: \u001b[1;4;36m-200.0\u001b[0m |                                         \n",
       "┗━━ ⬛ \u001b[1;4mCon_Agencia\u001b[0m 💯 \u001b[1;34mValue\u001b[0m: \u001b[1;4;36m0\u001b[0m |                                                             \n",
       "    ┣━━ ⚪\u001b[1;4mImagen\u001b[0m 💯 \u001b[1;34mValue\u001b[0m: \u001b[1;4;36m0\u001b[0m |                                                               \n",
       "    ┃   ╠══ 🔻 \u001b[1;4mExito\u001b[0m 🎲 \u001b[1;36mProb\u001b[0m: \u001b[1;4;36m0.9\u001b[0m | 💯 \u001b[1;34mValue\u001b[0m: \u001b[1;4;36m450.0\u001b[0m |                                        \n",
       "    ┃   ╚══ 🔻 \u001b[1;4mFracaso\u001b[0m 🎲 \u001b[1;36mProb\u001b[0m: \u001b[1;4;36m0.1\u001b[0m | 💯 \u001b[1;34mValue\u001b[0m: \u001b[1;4;36m-205.0\u001b[0m |                                     \n",
       "    ┗━━ ⚪\u001b[1;4mIngenio\u001b[0m 💯 \u001b[1;34mValue\u001b[0m: \u001b[1;4;36m0\u001b[0m |                                                              \n",
       "        ╠══ 🔻 \u001b[1;4mExito\u001b[0m 🎲 \u001b[1;36mProb\u001b[0m: \u001b[1;4;36m0.8\u001b[0m | 💯 \u001b[1;34mValue\u001b[0m: \u001b[1;4;36m480.0\u001b[0m |                                        \n",
       "        ╚══ 🔻 \u001b[1;4mFracaso\u001b[0m 🎲 \u001b[1;36mProb\u001b[0m: \u001b[1;4;36m0.2\u001b[0m | 💯 \u001b[1;34mValue\u001b[0m: \u001b[1;4;36m-220.0\u001b[0m |                                     \n"
      ],
      "text/html": "<pre style=\"white-space:pre;overflow-x:auto;line-height:normal;font-family:Menlo,'DejaVu Sans Mono',consolas,'Courier New',monospace\">⬛ <span style=\"font-weight: bold; text-decoration: underline\">Lanzamiento</span> 💯 <span style=\"color: #000080; text-decoration-color: #000080; font-weight: bold\">Value</span>: <span style=\"color: #008080; text-decoration-color: #008080; font-weight: bold; text-decoration: underline\">0.0</span> |                                                               \n┣━━ ⚪<span style=\"font-weight: bold; text-decoration: underline\">Sin_agencia</span> 💯 <span style=\"color: #000080; text-decoration-color: #000080; font-weight: bold\">Value</span>: <span style=\"color: #008080; text-decoration-color: #008080; font-weight: bold; text-decoration: underline\">0.0</span> |                                                            \n┃   ╠══ 🔻 <span style=\"font-weight: bold; text-decoration: underline\">Exito</span> 🎲 <span style=\"color: #008080; text-decoration-color: #008080; font-weight: bold\">Prob</span>: <span style=\"color: #008080; text-decoration-color: #008080; font-weight: bold; text-decoration: underline\">0.6</span> | 💯 <span style=\"color: #000080; text-decoration-color: #000080; font-weight: bold\">Value</span>: <span style=\"color: #008080; text-decoration-color: #008080; font-weight: bold; text-decoration: underline\">500.0</span> |                                            \n┃   ╚══ 🔻 <span style=\"font-weight: bold; text-decoration: underline\">Fracaso</span> 🎲 <span style=\"color: #008080; text-decoration-color: #008080; font-weight: bold\">Prob</span>: <span style=\"color: #008080; text-decoration-color: #008080; font-weight: bold; text-decoration: underline\">0.4</span> | 💯 <span style=\"color: #000080; text-decoration-color: #000080; font-weight: bold\">Value</span>: <span style=\"color: #008080; text-decoration-color: #008080; font-weight: bold; text-decoration: underline\">-200.0</span> |                                         \n┗━━ ⬛ <span style=\"font-weight: bold; text-decoration: underline\">Con_Agencia</span> 💯 <span style=\"color: #000080; text-decoration-color: #000080; font-weight: bold\">Value</span>: <span style=\"color: #008080; text-decoration-color: #008080; font-weight: bold; text-decoration: underline\">0</span> |                                                             \n    ┣━━ ⚪<span style=\"font-weight: bold; text-decoration: underline\">Imagen</span> 💯 <span style=\"color: #000080; text-decoration-color: #000080; font-weight: bold\">Value</span>: <span style=\"color: #008080; text-decoration-color: #008080; font-weight: bold; text-decoration: underline\">0</span> |                                                               \n    ┃   ╠══ 🔻 <span style=\"font-weight: bold; text-decoration: underline\">Exito</span> 🎲 <span style=\"color: #008080; text-decoration-color: #008080; font-weight: bold\">Prob</span>: <span style=\"color: #008080; text-decoration-color: #008080; font-weight: bold; text-decoration: underline\">0.9</span> | 💯 <span style=\"color: #000080; text-decoration-color: #000080; font-weight: bold\">Value</span>: <span style=\"color: #008080; text-decoration-color: #008080; font-weight: bold; text-decoration: underline\">450.0</span> |                                        \n    ┃   ╚══ 🔻 <span style=\"font-weight: bold; text-decoration: underline\">Fracaso</span> 🎲 <span style=\"color: #008080; text-decoration-color: #008080; font-weight: bold\">Prob</span>: <span style=\"color: #008080; text-decoration-color: #008080; font-weight: bold; text-decoration: underline\">0.1</span> | 💯 <span style=\"color: #000080; text-decoration-color: #000080; font-weight: bold\">Value</span>: <span style=\"color: #008080; text-decoration-color: #008080; font-weight: bold; text-decoration: underline\">-205.0</span> |                                     \n    ┗━━ ⚪<span style=\"font-weight: bold; text-decoration: underline\">Ingenio</span> 💯 <span style=\"color: #000080; text-decoration-color: #000080; font-weight: bold\">Value</span>: <span style=\"color: #008080; text-decoration-color: #008080; font-weight: bold; text-decoration: underline\">0</span> |                                                              \n        ╠══ 🔻 <span style=\"font-weight: bold; text-decoration: underline\">Exito</span> 🎲 <span style=\"color: #008080; text-decoration-color: #008080; font-weight: bold\">Prob</span>: <span style=\"color: #008080; text-decoration-color: #008080; font-weight: bold; text-decoration: underline\">0.8</span> | 💯 <span style=\"color: #000080; text-decoration-color: #000080; font-weight: bold\">Value</span>: <span style=\"color: #008080; text-decoration-color: #008080; font-weight: bold; text-decoration: underline\">480.0</span> |                                        \n        ╚══ 🔻 <span style=\"font-weight: bold; text-decoration: underline\">Fracaso</span> 🎲 <span style=\"color: #008080; text-decoration-color: #008080; font-weight: bold\">Prob</span>: <span style=\"color: #008080; text-decoration-color: #008080; font-weight: bold; text-decoration: underline\">0.2</span> | 💯 <span style=\"color: #000080; text-decoration-color: #000080; font-weight: bold\">Value</span>: <span style=\"color: #008080; text-decoration-color: #008080; font-weight: bold; text-decoration: underline\">-220.0</span> |                                     \n</pre>\n"
     },
     "metadata": {},
     "execution_count": 4
    }
   ],
   "source": [
    "c.tree()"
   ]
  },
  {
   "cell_type": "code",
   "execution_count": 5,
   "metadata": {},
   "outputs": [
    {
     "output_type": "execute_result",
     "data": {
      "text/plain": [
       "384.5"
      ]
     },
     "metadata": {},
     "execution_count": 5
    }
   ],
   "source": [
    "c.solve()"
   ]
  },
  {
   "cell_type": "code",
   "execution_count": 6,
   "metadata": {},
   "outputs": [
    {
     "output_type": "execute_result",
     "data": {
      "text/plain": [
       "⬛ \u001b[1;4mLanzamiento\u001b[0m 💯 \u001b[1;34mValue\u001b[0m: \u001b[1;4;36m0.0\u001b[0m | ➕ \u001b[1;35mCum Value\u001b[0m: \u001b[1;4;36m0.0\u001b[0m |                                           \n",
       "     ⭐ \u001b[1;32mExp. Value\u001b[0m: \u001b[1;4;36m384.5\u001b[0m |                                                                  \n",
       "┣━━ 🚫⚪\u001b[1;4mSin_agencia\u001b[0m 💯 \u001b[1;34mValue\u001b[0m: \u001b[1;4;36m0.0\u001b[0m | ➕ \u001b[1;35mCum Value\u001b[0m: \u001b[1;4;36m0.0\u001b[0m |                                      \n",
       "┃        ⭐ \u001b[1;32mExp. Value\u001b[0m: \u001b[1;4;36m220.0\u001b[0m |                                                              \n",
       "┃   ╠══ 🔻 \u001b[1;4mExito\u001b[0m 🎲 \u001b[1;36mProb\u001b[0m: \u001b[1;4;36m0.6\u001b[0m | 💯 \u001b[1;34mValue\u001b[0m: \u001b[1;4;36m500.0\u001b[0m | ➕ \u001b[1;35mCum Value\u001b[0m: \u001b[1;4;36m500.0\u001b[0m |                      \n",
       "┃   ║        ⭐ \u001b[1;32mExp. Value\u001b[0m: \u001b[1;4;36m500.0\u001b[0m |                                                          \n",
       "┃   ╚══ 🔻 \u001b[1;4mFracaso\u001b[0m 🎲 \u001b[1;36mProb\u001b[0m: \u001b[1;4;36m0.4\u001b[0m | 💯 \u001b[1;34mValue\u001b[0m: \u001b[1;4;36m-200.0\u001b[0m | ➕ \u001b[1;35mCum Value\u001b[0m: \u001b[1;4;36m-200.0\u001b[0m |                  \n",
       "┃            ⭐ \u001b[1;32mExp. Value\u001b[0m: \u001b[1;4;36m-200.0\u001b[0m |                                                         \n",
       "┗━━ ✅⬛ \u001b[1;4mCon_Agencia\u001b[0m 💯 \u001b[1;34mValue\u001b[0m: \u001b[1;4;36m0\u001b[0m | ➕ \u001b[1;35mCum Value\u001b[0m: \u001b[1;4;36m0.0\u001b[0m |                                       \n",
       "         ⭐ \u001b[1;32mExp. Value\u001b[0m: \u001b[1;4;36m384.5\u001b[0m |                                                              \n",
       "    ┣━━ ✅⚪\u001b[1;4mImagen\u001b[0m 💯 \u001b[1;34mValue\u001b[0m: \u001b[1;4;36m0\u001b[0m | ➕ \u001b[1;35mCum Value\u001b[0m: \u001b[1;4;36m0.0\u001b[0m |                                         \n",
       "    ┃        ⭐ \u001b[1;32mExp. Value\u001b[0m: \u001b[1;4;36m384.5\u001b[0m |                                                          \n",
       "    ┃   ╠══ 🔻 \u001b[1;4mExito\u001b[0m 🎲 \u001b[1;36mProb\u001b[0m: \u001b[1;4;36m0.9\u001b[0m | 💯 \u001b[1;34mValue\u001b[0m: \u001b[1;4;36m450.0\u001b[0m | ➕ \u001b[1;35mCum Value\u001b[0m: \u001b[1;4;36m450.0\u001b[0m |                  \n",
       "    ┃   ║        ⭐ \u001b[1;32mExp. Value\u001b[0m: \u001b[1;4;36m450.0\u001b[0m |                                                      \n",
       "    ┃   ╚══ 🔻 \u001b[1;4mFracaso\u001b[0m 🎲 \u001b[1;36mProb\u001b[0m: \u001b[1;4;36m0.1\u001b[0m | 💯 \u001b[1;34mValue\u001b[0m: \u001b[1;4;36m-205.0\u001b[0m | ➕ \u001b[1;35mCum Value\u001b[0m: \u001b[1;4;36m-205.0\u001b[0m |              \n",
       "    ┃            ⭐ \u001b[1;32mExp. Value\u001b[0m: \u001b[1;4;36m-205.0\u001b[0m |                                                     \n",
       "    ┗━━ 🚫⚪\u001b[1;4mIngenio\u001b[0m 💯 \u001b[1;34mValue\u001b[0m: \u001b[1;4;36m0\u001b[0m | ➕ \u001b[1;35mCum Value\u001b[0m: \u001b[1;4;36m0.0\u001b[0m |                                        \n",
       "             ⭐ \u001b[1;32mExp. Value\u001b[0m: \u001b[1;4;36m340.0\u001b[0m |                                                          \n",
       "        ╠══ 🔻 \u001b[1;4mExito\u001b[0m 🎲 \u001b[1;36mProb\u001b[0m: \u001b[1;4;36m0.8\u001b[0m | 💯 \u001b[1;34mValue\u001b[0m: \u001b[1;4;36m480.0\u001b[0m | ➕ \u001b[1;35mCum Value\u001b[0m: \u001b[1;4;36m480.0\u001b[0m |                  \n",
       "        ║        ⭐ \u001b[1;32mExp. Value\u001b[0m: \u001b[1;4;36m480.0\u001b[0m |                                                      \n",
       "        ╚══ 🔻 \u001b[1;4mFracaso\u001b[0m 🎲 \u001b[1;36mProb\u001b[0m: \u001b[1;4;36m0.2\u001b[0m | 💯 \u001b[1;34mValue\u001b[0m: \u001b[1;4;36m-220.0\u001b[0m | ➕ \u001b[1;35mCum Value\u001b[0m: \u001b[1;4;36m-220.0\u001b[0m |              \n",
       "                 ⭐ \u001b[1;32mExp. Value\u001b[0m: \u001b[1;4;36m-220.0\u001b[0m |                                                     \n"
      ],
      "text/html": "<pre style=\"white-space:pre;overflow-x:auto;line-height:normal;font-family:Menlo,'DejaVu Sans Mono',consolas,'Courier New',monospace\">⬛ <span style=\"font-weight: bold; text-decoration: underline\">Lanzamiento</span> 💯 <span style=\"color: #000080; text-decoration-color: #000080; font-weight: bold\">Value</span>: <span style=\"color: #008080; text-decoration-color: #008080; font-weight: bold; text-decoration: underline\">0.0</span> | ➕ <span style=\"color: #800080; text-decoration-color: #800080; font-weight: bold\">Cum Value</span>: <span style=\"color: #008080; text-decoration-color: #008080; font-weight: bold; text-decoration: underline\">0.0</span> |                                           \n     ⭐ <span style=\"color: #008000; text-decoration-color: #008000; font-weight: bold\">Exp. Value</span>: <span style=\"color: #008080; text-decoration-color: #008080; font-weight: bold; text-decoration: underline\">384.5</span> |                                                                  \n┣━━ 🚫⚪<span style=\"font-weight: bold; text-decoration: underline\">Sin_agencia</span> 💯 <span style=\"color: #000080; text-decoration-color: #000080; font-weight: bold\">Value</span>: <span style=\"color: #008080; text-decoration-color: #008080; font-weight: bold; text-decoration: underline\">0.0</span> | ➕ <span style=\"color: #800080; text-decoration-color: #800080; font-weight: bold\">Cum Value</span>: <span style=\"color: #008080; text-decoration-color: #008080; font-weight: bold; text-decoration: underline\">0.0</span> |                                      \n┃        ⭐ <span style=\"color: #008000; text-decoration-color: #008000; font-weight: bold\">Exp. Value</span>: <span style=\"color: #008080; text-decoration-color: #008080; font-weight: bold; text-decoration: underline\">220.0</span> |                                                              \n┃   ╠══ 🔻 <span style=\"font-weight: bold; text-decoration: underline\">Exito</span> 🎲 <span style=\"color: #008080; text-decoration-color: #008080; font-weight: bold\">Prob</span>: <span style=\"color: #008080; text-decoration-color: #008080; font-weight: bold; text-decoration: underline\">0.6</span> | 💯 <span style=\"color: #000080; text-decoration-color: #000080; font-weight: bold\">Value</span>: <span style=\"color: #008080; text-decoration-color: #008080; font-weight: bold; text-decoration: underline\">500.0</span> | ➕ <span style=\"color: #800080; text-decoration-color: #800080; font-weight: bold\">Cum Value</span>: <span style=\"color: #008080; text-decoration-color: #008080; font-weight: bold; text-decoration: underline\">500.0</span> |                      \n┃   ║        ⭐ <span style=\"color: #008000; text-decoration-color: #008000; font-weight: bold\">Exp. Value</span>: <span style=\"color: #008080; text-decoration-color: #008080; font-weight: bold; text-decoration: underline\">500.0</span> |                                                          \n┃   ╚══ 🔻 <span style=\"font-weight: bold; text-decoration: underline\">Fracaso</span> 🎲 <span style=\"color: #008080; text-decoration-color: #008080; font-weight: bold\">Prob</span>: <span style=\"color: #008080; text-decoration-color: #008080; font-weight: bold; text-decoration: underline\">0.4</span> | 💯 <span style=\"color: #000080; text-decoration-color: #000080; font-weight: bold\">Value</span>: <span style=\"color: #008080; text-decoration-color: #008080; font-weight: bold; text-decoration: underline\">-200.0</span> | ➕ <span style=\"color: #800080; text-decoration-color: #800080; font-weight: bold\">Cum Value</span>: <span style=\"color: #008080; text-decoration-color: #008080; font-weight: bold; text-decoration: underline\">-200.0</span> |                  \n┃            ⭐ <span style=\"color: #008000; text-decoration-color: #008000; font-weight: bold\">Exp. Value</span>: <span style=\"color: #008080; text-decoration-color: #008080; font-weight: bold; text-decoration: underline\">-200.0</span> |                                                         \n┗━━ ✅⬛ <span style=\"font-weight: bold; text-decoration: underline\">Con_Agencia</span> 💯 <span style=\"color: #000080; text-decoration-color: #000080; font-weight: bold\">Value</span>: <span style=\"color: #008080; text-decoration-color: #008080; font-weight: bold; text-decoration: underline\">0</span> | ➕ <span style=\"color: #800080; text-decoration-color: #800080; font-weight: bold\">Cum Value</span>: <span style=\"color: #008080; text-decoration-color: #008080; font-weight: bold; text-decoration: underline\">0.0</span> |                                       \n         ⭐ <span style=\"color: #008000; text-decoration-color: #008000; font-weight: bold\">Exp. Value</span>: <span style=\"color: #008080; text-decoration-color: #008080; font-weight: bold; text-decoration: underline\">384.5</span> |                                                              \n    ┣━━ ✅⚪<span style=\"font-weight: bold; text-decoration: underline\">Imagen</span> 💯 <span style=\"color: #000080; text-decoration-color: #000080; font-weight: bold\">Value</span>: <span style=\"color: #008080; text-decoration-color: #008080; font-weight: bold; text-decoration: underline\">0</span> | ➕ <span style=\"color: #800080; text-decoration-color: #800080; font-weight: bold\">Cum Value</span>: <span style=\"color: #008080; text-decoration-color: #008080; font-weight: bold; text-decoration: underline\">0.0</span> |                                         \n    ┃        ⭐ <span style=\"color: #008000; text-decoration-color: #008000; font-weight: bold\">Exp. Value</span>: <span style=\"color: #008080; text-decoration-color: #008080; font-weight: bold; text-decoration: underline\">384.5</span> |                                                          \n    ┃   ╠══ 🔻 <span style=\"font-weight: bold; text-decoration: underline\">Exito</span> 🎲 <span style=\"color: #008080; text-decoration-color: #008080; font-weight: bold\">Prob</span>: <span style=\"color: #008080; text-decoration-color: #008080; font-weight: bold; text-decoration: underline\">0.9</span> | 💯 <span style=\"color: #000080; text-decoration-color: #000080; font-weight: bold\">Value</span>: <span style=\"color: #008080; text-decoration-color: #008080; font-weight: bold; text-decoration: underline\">450.0</span> | ➕ <span style=\"color: #800080; text-decoration-color: #800080; font-weight: bold\">Cum Value</span>: <span style=\"color: #008080; text-decoration-color: #008080; font-weight: bold; text-decoration: underline\">450.0</span> |                  \n    ┃   ║        ⭐ <span style=\"color: #008000; text-decoration-color: #008000; font-weight: bold\">Exp. Value</span>: <span style=\"color: #008080; text-decoration-color: #008080; font-weight: bold; text-decoration: underline\">450.0</span> |                                                      \n    ┃   ╚══ 🔻 <span style=\"font-weight: bold; text-decoration: underline\">Fracaso</span> 🎲 <span style=\"color: #008080; text-decoration-color: #008080; font-weight: bold\">Prob</span>: <span style=\"color: #008080; text-decoration-color: #008080; font-weight: bold; text-decoration: underline\">0.1</span> | 💯 <span style=\"color: #000080; text-decoration-color: #000080; font-weight: bold\">Value</span>: <span style=\"color: #008080; text-decoration-color: #008080; font-weight: bold; text-decoration: underline\">-205.0</span> | ➕ <span style=\"color: #800080; text-decoration-color: #800080; font-weight: bold\">Cum Value</span>: <span style=\"color: #008080; text-decoration-color: #008080; font-weight: bold; text-decoration: underline\">-205.0</span> |              \n    ┃            ⭐ <span style=\"color: #008000; text-decoration-color: #008000; font-weight: bold\">Exp. Value</span>: <span style=\"color: #008080; text-decoration-color: #008080; font-weight: bold; text-decoration: underline\">-205.0</span> |                                                     \n    ┗━━ 🚫⚪<span style=\"font-weight: bold; text-decoration: underline\">Ingenio</span> 💯 <span style=\"color: #000080; text-decoration-color: #000080; font-weight: bold\">Value</span>: <span style=\"color: #008080; text-decoration-color: #008080; font-weight: bold; text-decoration: underline\">0</span> | ➕ <span style=\"color: #800080; text-decoration-color: #800080; font-weight: bold\">Cum Value</span>: <span style=\"color: #008080; text-decoration-color: #008080; font-weight: bold; text-decoration: underline\">0.0</span> |                                        \n             ⭐ <span style=\"color: #008000; text-decoration-color: #008000; font-weight: bold\">Exp. Value</span>: <span style=\"color: #008080; text-decoration-color: #008080; font-weight: bold; text-decoration: underline\">340.0</span> |                                                          \n        ╠══ 🔻 <span style=\"font-weight: bold; text-decoration: underline\">Exito</span> 🎲 <span style=\"color: #008080; text-decoration-color: #008080; font-weight: bold\">Prob</span>: <span style=\"color: #008080; text-decoration-color: #008080; font-weight: bold; text-decoration: underline\">0.8</span> | 💯 <span style=\"color: #000080; text-decoration-color: #000080; font-weight: bold\">Value</span>: <span style=\"color: #008080; text-decoration-color: #008080; font-weight: bold; text-decoration: underline\">480.0</span> | ➕ <span style=\"color: #800080; text-decoration-color: #800080; font-weight: bold\">Cum Value</span>: <span style=\"color: #008080; text-decoration-color: #008080; font-weight: bold; text-decoration: underline\">480.0</span> |                  \n        ║        ⭐ <span style=\"color: #008000; text-decoration-color: #008000; font-weight: bold\">Exp. Value</span>: <span style=\"color: #008080; text-decoration-color: #008080; font-weight: bold; text-decoration: underline\">480.0</span> |                                                      \n        ╚══ 🔻 <span style=\"font-weight: bold; text-decoration: underline\">Fracaso</span> 🎲 <span style=\"color: #008080; text-decoration-color: #008080; font-weight: bold\">Prob</span>: <span style=\"color: #008080; text-decoration-color: #008080; font-weight: bold; text-decoration: underline\">0.2</span> | 💯 <span style=\"color: #000080; text-decoration-color: #000080; font-weight: bold\">Value</span>: <span style=\"color: #008080; text-decoration-color: #008080; font-weight: bold; text-decoration: underline\">-220.0</span> | ➕ <span style=\"color: #800080; text-decoration-color: #800080; font-weight: bold\">Cum Value</span>: <span style=\"color: #008080; text-decoration-color: #008080; font-weight: bold; text-decoration: underline\">-220.0</span> |              \n                 ⭐ <span style=\"color: #008000; text-decoration-color: #008000; font-weight: bold\">Exp. Value</span>: <span style=\"color: #008080; text-decoration-color: #008080; font-weight: bold; text-decoration: underline\">-220.0</span> |                                                     \n</pre>\n"
     },
     "metadata": {},
     "execution_count": 6
    }
   ],
   "source": [
    "c.tree(expand_row=False)"
   ]
  },
  {
   "cell_type": "code",
   "execution_count": null,
   "metadata": {},
   "outputs": [],
   "source": []
  }
 ]
}
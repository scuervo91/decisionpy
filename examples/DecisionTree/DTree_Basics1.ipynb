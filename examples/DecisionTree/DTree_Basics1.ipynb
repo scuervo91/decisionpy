{
 "metadata": {
  "language_info": {
   "codemirror_mode": {
    "name": "ipython",
    "version": 3
   },
   "file_extension": ".py",
   "mimetype": "text/x-python",
   "name": "python",
   "nbconvert_exporter": "python",
   "pygments_lexer": "ipython3",
   "version": "3.8.8"
  },
  "orig_nbformat": 2,
  "kernelspec": {
   "name": "python388jvsc74a57bd0021cb30b2ea786c4168d34b25d60787593405f44b14e335badd1ef8d285224fc",
   "display_name": "Python 3.8.8 64-bit ('decisionpy': conda)"
  }
 },
 "nbformat": 4,
 "nbformat_minor": 2,
 "cells": [
  {
   "source": [
    "# Decision Tree - Basics "
   ],
   "cell_type": "markdown",
   "metadata": {}
  },
  {
   "cell_type": "code",
   "execution_count": 1,
   "metadata": {},
   "outputs": [],
   "source": [
    "import numpy as np \n",
    "from decisionpy.decisiontree import Node\n",
    "from rich.console import Console"
   ]
  },
  {
   "cell_type": "code",
   "execution_count": 2,
   "metadata": {},
   "outputs": [],
   "source": [
    "console = Console()"
   ]
  },
  {
   "cell_type": "code",
   "execution_count": 3,
   "metadata": {},
   "outputs": [],
   "source": [
    "n1 = Node(\n",
    "    name = 'no_otorgar',\n",
    "    value = 0,\n",
    "    type = 'end'\n",
    ")\n",
    "\n",
    "n2 = Node(\n",
    "    name = 'paga',\n",
    "    value = 3000,\n",
    "    type = 'end',\n",
    "    probability = 0.9\n",
    ")\n",
    "\n",
    "n3 = Node(\n",
    "    name = 'no_paga',\n",
    "    value = -15000,\n",
    "    type = 'end',\n",
    "    probability = 0.1\n",
    ")\n",
    "\n",
    "n4 = Node(\n",
    "    name = 'otorgar',\n",
    "    value = 0,\n",
    "    type='random',\n",
    "    children=[n2,n3]\n",
    ")\n",
    "\n",
    "t = Node(\n",
    "    name = 'otorgar_credito?',\n",
    "    value = 0,\n",
    "    type = 'decision',\n",
    "    children=[n4,n1]\n",
    ")"
   ]
  },
  {
   "cell_type": "code",
   "execution_count": 4,
   "metadata": {},
   "outputs": [
    {
     "output_type": "execute_result",
     "data": {
      "text/plain": [
       "\u001b[2m⬛ otorgar_credito? \u001b[0m\u001b[1;2;34mValue\u001b[0m\u001b[2m: \u001b[0m\u001b[1;2;4;36m0.0\u001b[0m\u001b[2m |\u001b[0m\u001b[1;2;35mCum Value\u001b[0m\u001b[2m: \u001b[0m\u001b[1;2;4;36m0\u001b[0m\u001b[2m |\u001b[0m\u001b[2m                                               \u001b[0m\n",
       "├── \u001b[2m⚪ otorgar \u001b[0m\u001b[1;2;34mValue\u001b[0m\u001b[2m: \u001b[0m\u001b[1;2;4;36m0.0\u001b[0m\u001b[2m |\u001b[0m\u001b[1;2;35mCum Value\u001b[0m\u001b[2m: \u001b[0m\u001b[1;2;4;36m0\u001b[0m\u001b[2m |\u001b[0m\u001b[2m                                                    \u001b[0m\n",
       "│   \u001b[2m├── \u001b[0m\u001b[2m🔻 paga \u001b[0m\u001b[1;2;36mProb\u001b[0m\u001b[2m: \u001b[0m\u001b[1;2;4;36m0.9\u001b[0m\u001b[2m | \u001b[0m\u001b[1;2;34mValue\u001b[0m\u001b[2m: \u001b[0m\u001b[1;2;4;36m3000.0\u001b[0m\u001b[2m |\u001b[0m\u001b[1;2;35mCum Value\u001b[0m\u001b[2m: \u001b[0m\u001b[1;2;4;36m0\u001b[0m\u001b[2m |\u001b[0m\u001b[2m                                    \u001b[0m\n",
       "│   \u001b[2m└── \u001b[0m\u001b[2m🔻 no_paga \u001b[0m\u001b[1;2;36mProb\u001b[0m\u001b[2m: \u001b[0m\u001b[1;2;4;36m0.1\u001b[0m\u001b[2m | \u001b[0m\u001b[1;2;34mValue\u001b[0m\u001b[2m: \u001b[0m\u001b[1;2;4;36m-15000.0\u001b[0m\u001b[2m |\u001b[0m\u001b[1;2;35mCum Value\u001b[0m\u001b[2m: \u001b[0m\u001b[1;2;4;36m0\u001b[0m\u001b[2m |\u001b[0m\u001b[2m                               \u001b[0m\n",
       "└── \u001b[2m🔻 no_otorgar \u001b[0m\u001b[1;2;34mValue\u001b[0m\u001b[2m: \u001b[0m\u001b[1;2;4;36m0.0\u001b[0m\u001b[2m |\u001b[0m\u001b[1;2;35mCum Value\u001b[0m\u001b[2m: \u001b[0m\u001b[1;2;4;36m0\u001b[0m\u001b[2m |\u001b[0m\u001b[2m                                                 \u001b[0m\n"
      ],
      "text/html": "<pre style=\"white-space:pre;overflow-x:auto;line-height:normal;font-family:Menlo,'DejaVu Sans Mono',consolas,'Courier New',monospace\"><span style=\"color: #7f7f7f; text-decoration-color: #7f7f7f\">⬛ otorgar_credito? </span><span style=\"color: #7f7fbf; text-decoration-color: #7f7fbf; font-weight: bold\">Value</span><span style=\"color: #7f7f7f; text-decoration-color: #7f7f7f\">: </span><span style=\"color: #7fbfbf; text-decoration-color: #7fbfbf; font-weight: bold; text-decoration: underline\">0.0</span><span style=\"color: #7f7f7f; text-decoration-color: #7f7f7f\"> |</span><span style=\"color: #bf7fbf; text-decoration-color: #bf7fbf; font-weight: bold\">Cum Value</span><span style=\"color: #7f7f7f; text-decoration-color: #7f7f7f\">: </span><span style=\"color: #7fbfbf; text-decoration-color: #7fbfbf; font-weight: bold; text-decoration: underline\">0</span><span style=\"color: #7f7f7f; text-decoration-color: #7f7f7f\"> |                                               </span>\n├── <span style=\"color: #7f7f7f; text-decoration-color: #7f7f7f\">⚪ otorgar </span><span style=\"color: #7f7fbf; text-decoration-color: #7f7fbf; font-weight: bold\">Value</span><span style=\"color: #7f7f7f; text-decoration-color: #7f7f7f\">: </span><span style=\"color: #7fbfbf; text-decoration-color: #7fbfbf; font-weight: bold; text-decoration: underline\">0.0</span><span style=\"color: #7f7f7f; text-decoration-color: #7f7f7f\"> |</span><span style=\"color: #bf7fbf; text-decoration-color: #bf7fbf; font-weight: bold\">Cum Value</span><span style=\"color: #7f7f7f; text-decoration-color: #7f7f7f\">: </span><span style=\"color: #7fbfbf; text-decoration-color: #7fbfbf; font-weight: bold; text-decoration: underline\">0</span><span style=\"color: #7f7f7f; text-decoration-color: #7f7f7f\"> |                                                    </span>\n│   <span style=\"color: #7f7f7f; text-decoration-color: #7f7f7f\">├── </span><span style=\"color: #7f7f7f; text-decoration-color: #7f7f7f\">🔻 paga </span><span style=\"color: #7fbfbf; text-decoration-color: #7fbfbf; font-weight: bold\">Prob</span><span style=\"color: #7f7f7f; text-decoration-color: #7f7f7f\">: </span><span style=\"color: #7fbfbf; text-decoration-color: #7fbfbf; font-weight: bold; text-decoration: underline\">0.9</span><span style=\"color: #7f7f7f; text-decoration-color: #7f7f7f\"> | </span><span style=\"color: #7f7fbf; text-decoration-color: #7f7fbf; font-weight: bold\">Value</span><span style=\"color: #7f7f7f; text-decoration-color: #7f7f7f\">: </span><span style=\"color: #7fbfbf; text-decoration-color: #7fbfbf; font-weight: bold; text-decoration: underline\">3000.0</span><span style=\"color: #7f7f7f; text-decoration-color: #7f7f7f\"> |</span><span style=\"color: #bf7fbf; text-decoration-color: #bf7fbf; font-weight: bold\">Cum Value</span><span style=\"color: #7f7f7f; text-decoration-color: #7f7f7f\">: </span><span style=\"color: #7fbfbf; text-decoration-color: #7fbfbf; font-weight: bold; text-decoration: underline\">0</span><span style=\"color: #7f7f7f; text-decoration-color: #7f7f7f\"> |                                    </span>\n│   <span style=\"color: #7f7f7f; text-decoration-color: #7f7f7f\">└── </span><span style=\"color: #7f7f7f; text-decoration-color: #7f7f7f\">🔻 no_paga </span><span style=\"color: #7fbfbf; text-decoration-color: #7fbfbf; font-weight: bold\">Prob</span><span style=\"color: #7f7f7f; text-decoration-color: #7f7f7f\">: </span><span style=\"color: #7fbfbf; text-decoration-color: #7fbfbf; font-weight: bold; text-decoration: underline\">0.1</span><span style=\"color: #7f7f7f; text-decoration-color: #7f7f7f\"> | </span><span style=\"color: #7f7fbf; text-decoration-color: #7f7fbf; font-weight: bold\">Value</span><span style=\"color: #7f7f7f; text-decoration-color: #7f7f7f\">: </span><span style=\"color: #7fbfbf; text-decoration-color: #7fbfbf; font-weight: bold; text-decoration: underline\">-15000.0</span><span style=\"color: #7f7f7f; text-decoration-color: #7f7f7f\"> |</span><span style=\"color: #bf7fbf; text-decoration-color: #bf7fbf; font-weight: bold\">Cum Value</span><span style=\"color: #7f7f7f; text-decoration-color: #7f7f7f\">: </span><span style=\"color: #7fbfbf; text-decoration-color: #7fbfbf; font-weight: bold; text-decoration: underline\">0</span><span style=\"color: #7f7f7f; text-decoration-color: #7f7f7f\"> |                               </span>\n└── <span style=\"color: #7f7f7f; text-decoration-color: #7f7f7f\">🔻 no_otorgar </span><span style=\"color: #7f7fbf; text-decoration-color: #7f7fbf; font-weight: bold\">Value</span><span style=\"color: #7f7f7f; text-decoration-color: #7f7f7f\">: </span><span style=\"color: #7fbfbf; text-decoration-color: #7fbfbf; font-weight: bold; text-decoration: underline\">0.0</span><span style=\"color: #7f7f7f; text-decoration-color: #7f7f7f\"> |</span><span style=\"color: #bf7fbf; text-decoration-color: #bf7fbf; font-weight: bold\">Cum Value</span><span style=\"color: #7f7f7f; text-decoration-color: #7f7f7f\">: </span><span style=\"color: #7fbfbf; text-decoration-color: #7fbfbf; font-weight: bold; text-decoration: underline\">0</span><span style=\"color: #7f7f7f; text-decoration-color: #7f7f7f\"> |                                                 </span>\n</pre>\n"
     },
     "metadata": {},
     "execution_count": 4
    }
   ],
   "source": [
    "t.tree()"
   ]
  },
  {
   "cell_type": "code",
   "execution_count": 5,
   "metadata": {},
   "outputs": [
    {
     "output_type": "execute_result",
     "data": {
      "text/plain": [
       "'otorgar'"
      ]
     },
     "metadata": {},
     "execution_count": 5
    }
   ],
   "source": [
    "t.solve()\n",
    "\n",
    "t.path"
   ]
  },
  {
   "cell_type": "code",
   "execution_count": 6,
   "metadata": {},
   "outputs": [
    {
     "output_type": "execute_result",
     "data": {
      "text/plain": [
       "\u001b[2m⬛ otorgar_credito? \u001b[0m\u001b[1;2;34mValue\u001b[0m\u001b[2m: \u001b[0m\u001b[1;2;4;36m0.0\u001b[0m\u001b[2m |\u001b[0m\u001b[1;2;35mCum Value\u001b[0m\u001b[2m: \u001b[0m\u001b[1;2;4;36m0\u001b[0m\u001b[2m |\u001b[0m\u001b[2m                                               \u001b[0m\n",
       "\u001b[2m \u001b[0m\u001b[1;2;32mExp. Value\u001b[0m\u001b[2m: \u001b[0m\u001b[1;2;4;36m1200.0\u001b[0m\u001b[2m |\u001b[0m\u001b[2m                                                                        \u001b[0m\n",
       "├── \u001b[2m✅⚪ otorgar \u001b[0m\u001b[1;2;34mValue\u001b[0m\u001b[2m: \u001b[0m\u001b[1;2;4;36m0.0\u001b[0m\u001b[2m |\u001b[0m\u001b[1;2;35mCum Value\u001b[0m\u001b[2m: \u001b[0m\u001b[1;2;4;36m0.0\u001b[0m\u001b[2m |\u001b[0m\u001b[2m                                                \u001b[0m\n",
       "│   \u001b[2m \u001b[0m\u001b[1;2;32mExp. Value\u001b[0m\u001b[2m: \u001b[0m\u001b[1;2;4;36m1200.0\u001b[0m\u001b[2m |\u001b[0m\u001b[2m                                                                    \u001b[0m\n",
       "│   \u001b[2m├── \u001b[0m\u001b[2m🔻 paga \u001b[0m\u001b[1;2;36mProb\u001b[0m\u001b[2m: \u001b[0m\u001b[1;2;4;36m0.9\u001b[0m\u001b[2m | \u001b[0m\u001b[1;2;34mValue\u001b[0m\u001b[2m: \u001b[0m\u001b[1;2;4;36m3000.0\u001b[0m\u001b[2m |\u001b[0m\u001b[1;2;35mCum Value\u001b[0m\u001b[2m: \u001b[0m\u001b[1;2;4;36m3000.0\u001b[0m\u001b[2m |\u001b[0m\u001b[2m                               \u001b[0m\n",
       "│   \u001b[2m│   \u001b[0m\u001b[2m \u001b[0m\u001b[1;2;32mExp. Value\u001b[0m\u001b[2m: \u001b[0m\u001b[1;2;4;36m3000.0\u001b[0m\u001b[2m |\u001b[0m\u001b[2m                                                                \u001b[0m\n",
       "│   \u001b[2m└── \u001b[0m\u001b[2m🔻 no_paga \u001b[0m\u001b[1;2;36mProb\u001b[0m\u001b[2m: \u001b[0m\u001b[1;2;4;36m0.1\u001b[0m\u001b[2m | \u001b[0m\u001b[1;2;34mValue\u001b[0m\u001b[2m: \u001b[0m\u001b[1;2;4;36m-15000.0\u001b[0m\u001b[2m |\u001b[0m\u001b[1;2;35mCum Value\u001b[0m\u001b[2m: \u001b[0m\u001b[1;2;4;36m-15000.0\u001b[0m\u001b[2m |\u001b[0m\u001b[2m                        \u001b[0m\n",
       "│   \u001b[2m    \u001b[0m\u001b[2m \u001b[0m\u001b[1;2;32mExp. Value\u001b[0m\u001b[2m: \u001b[0m\u001b[1;2;4;36m-15000.0\u001b[0m\u001b[2m |\u001b[0m\u001b[2m                                                              \u001b[0m\n",
       "└── \u001b[2m🚫🔻 no_otorgar \u001b[0m\u001b[1;2;34mValue\u001b[0m\u001b[2m: \u001b[0m\u001b[1;2;4;36m0.0\u001b[0m\u001b[2m |\u001b[0m\u001b[1;2;35mCum Value\u001b[0m\u001b[2m: \u001b[0m\u001b[1;2;4;36m0.0\u001b[0m\u001b[2m |\u001b[0m\u001b[2m                                             \u001b[0m\n",
       "    \u001b[2m \u001b[0m\u001b[1;2;32mExp. Value\u001b[0m\u001b[2m: \u001b[0m\u001b[1;2;4;36m0.0\u001b[0m\u001b[2m |\u001b[0m\u001b[2m                                                                       \u001b[0m\n"
      ],
      "text/html": "<pre style=\"white-space:pre;overflow-x:auto;line-height:normal;font-family:Menlo,'DejaVu Sans Mono',consolas,'Courier New',monospace\"><span style=\"color: #7f7f7f; text-decoration-color: #7f7f7f\">⬛ otorgar_credito? </span><span style=\"color: #7f7fbf; text-decoration-color: #7f7fbf; font-weight: bold\">Value</span><span style=\"color: #7f7f7f; text-decoration-color: #7f7f7f\">: </span><span style=\"color: #7fbfbf; text-decoration-color: #7fbfbf; font-weight: bold; text-decoration: underline\">0.0</span><span style=\"color: #7f7f7f; text-decoration-color: #7f7f7f\"> |</span><span style=\"color: #bf7fbf; text-decoration-color: #bf7fbf; font-weight: bold\">Cum Value</span><span style=\"color: #7f7f7f; text-decoration-color: #7f7f7f\">: </span><span style=\"color: #7fbfbf; text-decoration-color: #7fbfbf; font-weight: bold; text-decoration: underline\">0</span><span style=\"color: #7f7f7f; text-decoration-color: #7f7f7f\"> |                                               </span>\n<span style=\"color: #7f7f7f; text-decoration-color: #7f7f7f\"> </span><span style=\"color: #7fbf7f; text-decoration-color: #7fbf7f; font-weight: bold\">Exp. Value</span><span style=\"color: #7f7f7f; text-decoration-color: #7f7f7f\">: </span><span style=\"color: #7fbfbf; text-decoration-color: #7fbfbf; font-weight: bold; text-decoration: underline\">1200.0</span><span style=\"color: #7f7f7f; text-decoration-color: #7f7f7f\"> |                                                                        </span>\n├── <span style=\"color: #7f7f7f; text-decoration-color: #7f7f7f\">✅⚪ otorgar </span><span style=\"color: #7f7fbf; text-decoration-color: #7f7fbf; font-weight: bold\">Value</span><span style=\"color: #7f7f7f; text-decoration-color: #7f7f7f\">: </span><span style=\"color: #7fbfbf; text-decoration-color: #7fbfbf; font-weight: bold; text-decoration: underline\">0.0</span><span style=\"color: #7f7f7f; text-decoration-color: #7f7f7f\"> |</span><span style=\"color: #bf7fbf; text-decoration-color: #bf7fbf; font-weight: bold\">Cum Value</span><span style=\"color: #7f7f7f; text-decoration-color: #7f7f7f\">: </span><span style=\"color: #7fbfbf; text-decoration-color: #7fbfbf; font-weight: bold; text-decoration: underline\">0.0</span><span style=\"color: #7f7f7f; text-decoration-color: #7f7f7f\"> |                                                </span>\n│   <span style=\"color: #7f7f7f; text-decoration-color: #7f7f7f\"> </span><span style=\"color: #7fbf7f; text-decoration-color: #7fbf7f; font-weight: bold\">Exp. Value</span><span style=\"color: #7f7f7f; text-decoration-color: #7f7f7f\">: </span><span style=\"color: #7fbfbf; text-decoration-color: #7fbfbf; font-weight: bold; text-decoration: underline\">1200.0</span><span style=\"color: #7f7f7f; text-decoration-color: #7f7f7f\"> |                                                                    </span>\n│   <span style=\"color: #7f7f7f; text-decoration-color: #7f7f7f\">├── </span><span style=\"color: #7f7f7f; text-decoration-color: #7f7f7f\">🔻 paga </span><span style=\"color: #7fbfbf; text-decoration-color: #7fbfbf; font-weight: bold\">Prob</span><span style=\"color: #7f7f7f; text-decoration-color: #7f7f7f\">: </span><span style=\"color: #7fbfbf; text-decoration-color: #7fbfbf; font-weight: bold; text-decoration: underline\">0.9</span><span style=\"color: #7f7f7f; text-decoration-color: #7f7f7f\"> | </span><span style=\"color: #7f7fbf; text-decoration-color: #7f7fbf; font-weight: bold\">Value</span><span style=\"color: #7f7f7f; text-decoration-color: #7f7f7f\">: </span><span style=\"color: #7fbfbf; text-decoration-color: #7fbfbf; font-weight: bold; text-decoration: underline\">3000.0</span><span style=\"color: #7f7f7f; text-decoration-color: #7f7f7f\"> |</span><span style=\"color: #bf7fbf; text-decoration-color: #bf7fbf; font-weight: bold\">Cum Value</span><span style=\"color: #7f7f7f; text-decoration-color: #7f7f7f\">: </span><span style=\"color: #7fbfbf; text-decoration-color: #7fbfbf; font-weight: bold; text-decoration: underline\">3000.0</span><span style=\"color: #7f7f7f; text-decoration-color: #7f7f7f\"> |                               </span>\n│   <span style=\"color: #7f7f7f; text-decoration-color: #7f7f7f\">│   </span><span style=\"color: #7f7f7f; text-decoration-color: #7f7f7f\"> </span><span style=\"color: #7fbf7f; text-decoration-color: #7fbf7f; font-weight: bold\">Exp. Value</span><span style=\"color: #7f7f7f; text-decoration-color: #7f7f7f\">: </span><span style=\"color: #7fbfbf; text-decoration-color: #7fbfbf; font-weight: bold; text-decoration: underline\">3000.0</span><span style=\"color: #7f7f7f; text-decoration-color: #7f7f7f\"> |                                                                </span>\n│   <span style=\"color: #7f7f7f; text-decoration-color: #7f7f7f\">└── </span><span style=\"color: #7f7f7f; text-decoration-color: #7f7f7f\">🔻 no_paga </span><span style=\"color: #7fbfbf; text-decoration-color: #7fbfbf; font-weight: bold\">Prob</span><span style=\"color: #7f7f7f; text-decoration-color: #7f7f7f\">: </span><span style=\"color: #7fbfbf; text-decoration-color: #7fbfbf; font-weight: bold; text-decoration: underline\">0.1</span><span style=\"color: #7f7f7f; text-decoration-color: #7f7f7f\"> | </span><span style=\"color: #7f7fbf; text-decoration-color: #7f7fbf; font-weight: bold\">Value</span><span style=\"color: #7f7f7f; text-decoration-color: #7f7f7f\">: </span><span style=\"color: #7fbfbf; text-decoration-color: #7fbfbf; font-weight: bold; text-decoration: underline\">-15000.0</span><span style=\"color: #7f7f7f; text-decoration-color: #7f7f7f\"> |</span><span style=\"color: #bf7fbf; text-decoration-color: #bf7fbf; font-weight: bold\">Cum Value</span><span style=\"color: #7f7f7f; text-decoration-color: #7f7f7f\">: </span><span style=\"color: #7fbfbf; text-decoration-color: #7fbfbf; font-weight: bold; text-decoration: underline\">-15000.0</span><span style=\"color: #7f7f7f; text-decoration-color: #7f7f7f\"> |                        </span>\n│   <span style=\"color: #7f7f7f; text-decoration-color: #7f7f7f\">    </span><span style=\"color: #7f7f7f; text-decoration-color: #7f7f7f\"> </span><span style=\"color: #7fbf7f; text-decoration-color: #7fbf7f; font-weight: bold\">Exp. Value</span><span style=\"color: #7f7f7f; text-decoration-color: #7f7f7f\">: </span><span style=\"color: #7fbfbf; text-decoration-color: #7fbfbf; font-weight: bold; text-decoration: underline\">-15000.0</span><span style=\"color: #7f7f7f; text-decoration-color: #7f7f7f\"> |                                                              </span>\n└── <span style=\"color: #7f7f7f; text-decoration-color: #7f7f7f\">🚫🔻 no_otorgar </span><span style=\"color: #7f7fbf; text-decoration-color: #7f7fbf; font-weight: bold\">Value</span><span style=\"color: #7f7f7f; text-decoration-color: #7f7f7f\">: </span><span style=\"color: #7fbfbf; text-decoration-color: #7fbfbf; font-weight: bold; text-decoration: underline\">0.0</span><span style=\"color: #7f7f7f; text-decoration-color: #7f7f7f\"> |</span><span style=\"color: #bf7fbf; text-decoration-color: #bf7fbf; font-weight: bold\">Cum Value</span><span style=\"color: #7f7f7f; text-decoration-color: #7f7f7f\">: </span><span style=\"color: #7fbfbf; text-decoration-color: #7fbfbf; font-weight: bold; text-decoration: underline\">0.0</span><span style=\"color: #7f7f7f; text-decoration-color: #7f7f7f\"> |                                             </span>\n    <span style=\"color: #7f7f7f; text-decoration-color: #7f7f7f\"> </span><span style=\"color: #7fbf7f; text-decoration-color: #7fbf7f; font-weight: bold\">Exp. Value</span><span style=\"color: #7f7f7f; text-decoration-color: #7f7f7f\">: </span><span style=\"color: #7fbfbf; text-decoration-color: #7fbfbf; font-weight: bold; text-decoration: underline\">0.0</span><span style=\"color: #7f7f7f; text-decoration-color: #7f7f7f\"> |                                                                       </span>\n</pre>\n"
     },
     "metadata": {},
     "execution_count": 6
    }
   ],
   "source": [
    "t.tree()"
   ]
  },
  {
   "cell_type": "code",
   "execution_count": 7,
   "metadata": {},
   "outputs": [
    {
     "output_type": "execute_result",
     "data": {
      "text/plain": [
       "700.0"
      ]
     },
     "metadata": {},
     "execution_count": 7
    }
   ],
   "source": [
    "2500*0.9 - 15500*0.1"
   ]
  },
  {
   "cell_type": "code",
   "execution_count": null,
   "metadata": {},
   "outputs": [],
   "source": []
  }
 ]
}
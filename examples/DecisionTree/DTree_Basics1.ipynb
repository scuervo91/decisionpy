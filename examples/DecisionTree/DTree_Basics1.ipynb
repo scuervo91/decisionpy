{
 "metadata": {
  "language_info": {
   "codemirror_mode": {
    "name": "ipython",
    "version": 3
   },
   "file_extension": ".py",
   "mimetype": "text/x-python",
   "name": "python",
   "nbconvert_exporter": "python",
   "pygments_lexer": "ipython3",
   "version": "3.8.8"
  },
  "orig_nbformat": 2,
  "kernelspec": {
   "name": "python388jvsc74a57bd0021cb30b2ea786c4168d34b25d60787593405f44b14e335badd1ef8d285224fc",
   "display_name": "Python 3.8.8 64-bit ('decisionpy': conda)"
  }
 },
 "nbformat": 4,
 "nbformat_minor": 2,
 "cells": [
  {
   "source": [
    "# Decision Tree - Basics "
   ],
   "cell_type": "markdown",
   "metadata": {}
  },
  {
   "cell_type": "code",
   "execution_count": 1,
   "metadata": {},
   "outputs": [],
   "source": [
    "import numpy as np \n",
    "from decisionpy.decisiontree import Node"
   ]
  },
  {
   "cell_type": "code",
   "execution_count": 2,
   "metadata": {},
   "outputs": [],
   "source": [
    "n1 = Node(\n",
    "    name = 'no_otorgar',\n",
    "    value = 0,\n",
    "    type = 'end'\n",
    ")\n",
    "\n",
    "n2 = Node(\n",
    "    name = 'paga',\n",
    "    value = 3000,\n",
    "    type = 'end',\n",
    "    probability = 0.9\n",
    ")\n",
    "\n",
    "n3 = Node(\n",
    "    name = 'no_paga',\n",
    "    value = -15000,\n",
    "    type = 'end',\n",
    "    probability = 0.1\n",
    ")\n",
    "\n",
    "n4 = Node(\n",
    "    name = 'otorgar',\n",
    "    value = 0,\n",
    "    type='random',\n",
    "    children=[n2,n3]\n",
    ")\n",
    "\n",
    "t = Node(\n",
    "    name = 'otorgar_credito?',\n",
    "    value = 0,\n",
    "    type = 'decision',\n",
    "    children=[n4,n1]\n",
    ")"
   ]
  },
  {
   "cell_type": "code",
   "execution_count": 3,
   "metadata": {},
   "outputs": [
    {
     "output_type": "stream",
     "name": "stdout",
     "text": [
      "otorgar\npaga\nno_paga\nno_otorgar\n"
     ]
    },
    {
     "output_type": "execute_result",
     "data": {
      "text/plain": [
       "1200.0"
      ]
     },
     "metadata": {},
     "execution_count": 3
    }
   ],
   "source": [
    "t.solve()"
   ]
  },
  {
   "cell_type": "code",
   "execution_count": 4,
   "metadata": {},
   "outputs": [
    {
     "output_type": "execute_result",
     "data": {
      "text/plain": [
       "function"
      ]
     },
     "metadata": {},
     "execution_count": 4
    }
   ],
   "source": [
    "type(t.expected_value_func)"
   ]
  },
  {
   "cell_type": "code",
   "execution_count": 5,
   "metadata": {},
   "outputs": [
    {
     "output_type": "execute_result",
     "data": {
      "text/plain": [
       "True"
      ]
     },
     "metadata": {},
     "execution_count": 5
    }
   ],
   "source": [
    "t.type == 'decision'"
   ]
  },
  {
   "cell_type": "code",
   "execution_count": 6,
   "metadata": {},
   "outputs": [
    {
     "output_type": "execute_result",
     "data": {
      "text/plain": [
       "'otorgar'"
      ]
     },
     "metadata": {},
     "execution_count": 6
    }
   ],
   "source": [
    "t.path"
   ]
  },
  {
   "cell_type": "code",
   "execution_count": null,
   "metadata": {},
   "outputs": [],
   "source": []
  }
 ]
}
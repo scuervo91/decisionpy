{
 "metadata": {
  "language_info": {
   "codemirror_mode": {
    "name": "ipython",
    "version": 3
   },
   "file_extension": ".py",
   "mimetype": "text/x-python",
   "name": "python",
   "nbconvert_exporter": "python",
   "pygments_lexer": "ipython3",
   "version": "3.8.8"
  },
  "orig_nbformat": 2,
  "kernelspec": {
   "name": "python388jvsc74a57bd0021cb30b2ea786c4168d34b25d60787593405f44b14e335badd1ef8d285224fc",
   "display_name": "Python 3.8.8 64-bit ('decisionpy': conda)"
  }
 },
 "nbformat": 4,
 "nbformat_minor": 2,
 "cells": [
  {
   "source": [
    "# Decision Tree - Basics \n",
    "\n",
    "Decision Tree methodology."
   ],
   "cell_type": "markdown",
   "metadata": {}
  },
  {
   "cell_type": "code",
   "execution_count": 1,
   "metadata": {},
   "outputs": [],
   "source": [
    "import numpy as np \n",
    "from decisionpy.decisiontree import Node"
   ]
  },
  {
   "cell_type": "code",
   "execution_count": 2,
   "metadata": {},
   "outputs": [],
   "source": [
    "n1 = Node(\n",
    "    name = 'no_otorgar',\n",
    "    value = 0,\n",
    "    type = 'end'\n",
    ")\n",
    "\n",
    "n2 = Node(\n",
    "    name = 'paga',\n",
    "    value = 3000,\n",
    "    type = 'end',\n",
    "    probability = 0.9\n",
    ")\n",
    "\n",
    "n3 = Node(\n",
    "    name = 'no_paga',\n",
    "    value = -15000,\n",
    "    type = 'end',\n",
    "    probability = 0.1\n",
    ")\n",
    "\n",
    "n4 = Node(\n",
    "    name = 'otorgar',\n",
    "    value = 0,\n",
    "    type='random',\n",
    "    children=[n2,n3]\n",
    ")\n",
    "\n",
    "t = Node(\n",
    "    name = 'otorgar_credito?',\n",
    "    value = 0,\n",
    "    type = 'decision',\n",
    "    children=[n4,n1]\n",
    ")"
   ]
  },
  {
   "cell_type": "code",
   "execution_count": 3,
   "metadata": {},
   "outputs": [
    {
     "output_type": "execute_result",
     "data": {
      "text/plain": [
       "⬛ \u001b[1;4motorgar_credito?\u001b[0m 💯 \u001b[1;34mValue\u001b[0m: \u001b[1;4;36m0.0\u001b[0m | ➕ \u001b[1;35mCum Value\u001b[0m: \u001b[1;4;36m0\u001b[0m |                                        \n",
       "┣━━ ⚪\u001b[1;4motorgar\u001b[0m 💯 \u001b[1;34mValue\u001b[0m: \u001b[1;4;36m0.0\u001b[0m | ➕ \u001b[1;35mCum Value\u001b[0m: \u001b[1;4;36m0\u001b[0m |                                              \n",
       "┃   ╠══ 🔻 \u001b[1;4mpaga\u001b[0m 🎲 \u001b[1;36mProb\u001b[0m: \u001b[1;4;36m0.9\u001b[0m | 💯 \u001b[1;34mValue\u001b[0m: \u001b[1;4;36m3000.0\u001b[0m | ➕ \u001b[1;35mCum Value\u001b[0m: \u001b[1;4;36m0\u001b[0m |                          \n",
       "┃   ╚══ 🔻 \u001b[1;4mno_paga\u001b[0m 🎲 \u001b[1;36mProb\u001b[0m: \u001b[1;4;36m0.1\u001b[0m | 💯 \u001b[1;34mValue\u001b[0m: \u001b[1;4;36m-15000.0\u001b[0m | ➕ \u001b[1;35mCum Value\u001b[0m: \u001b[1;4;36m0\u001b[0m |                     \n",
       "┗━━ 🔻 \u001b[1;4mno_otorgar\u001b[0m 💯 \u001b[1;34mValue\u001b[0m: \u001b[1;4;36m0.0\u001b[0m | ➕ \u001b[1;35mCum Value\u001b[0m: \u001b[1;4;36m0\u001b[0m |                                          \n"
      ],
      "text/html": "<pre style=\"white-space:pre;overflow-x:auto;line-height:normal;font-family:Menlo,'DejaVu Sans Mono',consolas,'Courier New',monospace\">⬛ <span style=\"font-weight: bold; text-decoration: underline\">otorgar_credito?</span> 💯 <span style=\"color: #000080; text-decoration-color: #000080; font-weight: bold\">Value</span>: <span style=\"color: #008080; text-decoration-color: #008080; font-weight: bold; text-decoration: underline\">0.0</span> | ➕ <span style=\"color: #800080; text-decoration-color: #800080; font-weight: bold\">Cum Value</span>: <span style=\"color: #008080; text-decoration-color: #008080; font-weight: bold; text-decoration: underline\">0</span> |                                        \n┣━━ ⚪<span style=\"font-weight: bold; text-decoration: underline\">otorgar</span> 💯 <span style=\"color: #000080; text-decoration-color: #000080; font-weight: bold\">Value</span>: <span style=\"color: #008080; text-decoration-color: #008080; font-weight: bold; text-decoration: underline\">0.0</span> | ➕ <span style=\"color: #800080; text-decoration-color: #800080; font-weight: bold\">Cum Value</span>: <span style=\"color: #008080; text-decoration-color: #008080; font-weight: bold; text-decoration: underline\">0</span> |                                              \n┃   ╠══ 🔻 <span style=\"font-weight: bold; text-decoration: underline\">paga</span> 🎲 <span style=\"color: #008080; text-decoration-color: #008080; font-weight: bold\">Prob</span>: <span style=\"color: #008080; text-decoration-color: #008080; font-weight: bold; text-decoration: underline\">0.9</span> | 💯 <span style=\"color: #000080; text-decoration-color: #000080; font-weight: bold\">Value</span>: <span style=\"color: #008080; text-decoration-color: #008080; font-weight: bold; text-decoration: underline\">3000.0</span> | ➕ <span style=\"color: #800080; text-decoration-color: #800080; font-weight: bold\">Cum Value</span>: <span style=\"color: #008080; text-decoration-color: #008080; font-weight: bold; text-decoration: underline\">0</span> |                          \n┃   ╚══ 🔻 <span style=\"font-weight: bold; text-decoration: underline\">no_paga</span> 🎲 <span style=\"color: #008080; text-decoration-color: #008080; font-weight: bold\">Prob</span>: <span style=\"color: #008080; text-decoration-color: #008080; font-weight: bold; text-decoration: underline\">0.1</span> | 💯 <span style=\"color: #000080; text-decoration-color: #000080; font-weight: bold\">Value</span>: <span style=\"color: #008080; text-decoration-color: #008080; font-weight: bold; text-decoration: underline\">-15000.0</span> | ➕ <span style=\"color: #800080; text-decoration-color: #800080; font-weight: bold\">Cum Value</span>: <span style=\"color: #008080; text-decoration-color: #008080; font-weight: bold; text-decoration: underline\">0</span> |                     \n┗━━ 🔻 <span style=\"font-weight: bold; text-decoration: underline\">no_otorgar</span> 💯 <span style=\"color: #000080; text-decoration-color: #000080; font-weight: bold\">Value</span>: <span style=\"color: #008080; text-decoration-color: #008080; font-weight: bold; text-decoration: underline\">0.0</span> | ➕ <span style=\"color: #800080; text-decoration-color: #800080; font-weight: bold\">Cum Value</span>: <span style=\"color: #008080; text-decoration-color: #008080; font-weight: bold; text-decoration: underline\">0</span> |                                          \n</pre>\n"
     },
     "metadata": {},
     "execution_count": 3
    }
   ],
   "source": [
    "t.tree()"
   ]
  },
  {
   "cell_type": "code",
   "execution_count": 4,
   "metadata": {},
   "outputs": [
    {
     "output_type": "execute_result",
     "data": {
      "text/plain": [
       "'otorgar'"
      ]
     },
     "metadata": {},
     "execution_count": 4
    }
   ],
   "source": [
    "t.solve()\n",
    "\n",
    "t.path"
   ]
  },
  {
   "cell_type": "code",
   "execution_count": 5,
   "metadata": {},
   "outputs": [
    {
     "output_type": "execute_result",
     "data": {
      "text/plain": [
       "⬛ \u001b[1;4motorgar_credito?\u001b[0m 💯 \u001b[1;34mValue\u001b[0m: \u001b[1;4;36m0.0\u001b[0m | ➕ \u001b[1;35mCum Value\u001b[0m: \u001b[1;4;36m0\u001b[0m |                                        \n",
       " ⭐ \u001b[1;32mExp. Value\u001b[0m: \u001b[1;4;36m1200.0\u001b[0m |                                                                     \n",
       "┣━━ ✅⚪\u001b[1;4motorgar\u001b[0m 💯 \u001b[1;34mValue\u001b[0m: \u001b[1;4;36m0.0\u001b[0m | ➕ \u001b[1;35mCum Value\u001b[0m: \u001b[1;4;36m0.0\u001b[0m |                                          \n",
       "┃    ⭐ \u001b[1;32mExp. Value\u001b[0m: \u001b[1;4;36m1200.0\u001b[0m |                                                                 \n",
       "┃   ╠══ 🔻 \u001b[1;4mpaga\u001b[0m 🎲 \u001b[1;36mProb\u001b[0m: \u001b[1;4;36m0.9\u001b[0m | 💯 \u001b[1;34mValue\u001b[0m: \u001b[1;4;36m3000.0\u001b[0m | ➕ \u001b[1;35mCum Value\u001b[0m: \u001b[1;4;36m3000.0\u001b[0m |                     \n",
       "┃   ║    ⭐ \u001b[1;32mExp. Value\u001b[0m: \u001b[1;4;36m2700.0\u001b[0m |                                                             \n",
       "┃   ╚══ 🔻 \u001b[1;4mno_paga\u001b[0m 🎲 \u001b[1;36mProb\u001b[0m: \u001b[1;4;36m0.1\u001b[0m | 💯 \u001b[1;34mValue\u001b[0m: \u001b[1;4;36m-15000.0\u001b[0m | ➕ \u001b[1;35mCum Value\u001b[0m: \u001b[1;4;36m-15000.0\u001b[0m |              \n",
       "┃        ⭐ \u001b[1;32mExp. Value\u001b[0m: \u001b[1;4;36m-1500.0\u001b[0m |                                                            \n",
       "┗━━ 🚫🔻 \u001b[1;4mno_otorgar\u001b[0m 💯 \u001b[1;34mValue\u001b[0m: \u001b[1;4;36m0.0\u001b[0m | ➕ \u001b[1;35mCum Value\u001b[0m: \u001b[1;4;36m0.0\u001b[0m |                                      \n",
       "     ⭐ \u001b[1;32mExp. Value\u001b[0m: \u001b[1;4;36m0.0\u001b[0m |                                                                    \n"
      ],
      "text/html": "<pre style=\"white-space:pre;overflow-x:auto;line-height:normal;font-family:Menlo,'DejaVu Sans Mono',consolas,'Courier New',monospace\">⬛ <span style=\"font-weight: bold; text-decoration: underline\">otorgar_credito?</span> 💯 <span style=\"color: #000080; text-decoration-color: #000080; font-weight: bold\">Value</span>: <span style=\"color: #008080; text-decoration-color: #008080; font-weight: bold; text-decoration: underline\">0.0</span> | ➕ <span style=\"color: #800080; text-decoration-color: #800080; font-weight: bold\">Cum Value</span>: <span style=\"color: #008080; text-decoration-color: #008080; font-weight: bold; text-decoration: underline\">0</span> |                                        \n ⭐ <span style=\"color: #008000; text-decoration-color: #008000; font-weight: bold\">Exp. Value</span>: <span style=\"color: #008080; text-decoration-color: #008080; font-weight: bold; text-decoration: underline\">1200.0</span> |                                                                     \n┣━━ ✅⚪<span style=\"font-weight: bold; text-decoration: underline\">otorgar</span> 💯 <span style=\"color: #000080; text-decoration-color: #000080; font-weight: bold\">Value</span>: <span style=\"color: #008080; text-decoration-color: #008080; font-weight: bold; text-decoration: underline\">0.0</span> | ➕ <span style=\"color: #800080; text-decoration-color: #800080; font-weight: bold\">Cum Value</span>: <span style=\"color: #008080; text-decoration-color: #008080; font-weight: bold; text-decoration: underline\">0.0</span> |                                          \n┃    ⭐ <span style=\"color: #008000; text-decoration-color: #008000; font-weight: bold\">Exp. Value</span>: <span style=\"color: #008080; text-decoration-color: #008080; font-weight: bold; text-decoration: underline\">1200.0</span> |                                                                 \n┃   ╠══ 🔻 <span style=\"font-weight: bold; text-decoration: underline\">paga</span> 🎲 <span style=\"color: #008080; text-decoration-color: #008080; font-weight: bold\">Prob</span>: <span style=\"color: #008080; text-decoration-color: #008080; font-weight: bold; text-decoration: underline\">0.9</span> | 💯 <span style=\"color: #000080; text-decoration-color: #000080; font-weight: bold\">Value</span>: <span style=\"color: #008080; text-decoration-color: #008080; font-weight: bold; text-decoration: underline\">3000.0</span> | ➕ <span style=\"color: #800080; text-decoration-color: #800080; font-weight: bold\">Cum Value</span>: <span style=\"color: #008080; text-decoration-color: #008080; font-weight: bold; text-decoration: underline\">3000.0</span> |                     \n┃   ║    ⭐ <span style=\"color: #008000; text-decoration-color: #008000; font-weight: bold\">Exp. Value</span>: <span style=\"color: #008080; text-decoration-color: #008080; font-weight: bold; text-decoration: underline\">2700.0</span> |                                                             \n┃   ╚══ 🔻 <span style=\"font-weight: bold; text-decoration: underline\">no_paga</span> 🎲 <span style=\"color: #008080; text-decoration-color: #008080; font-weight: bold\">Prob</span>: <span style=\"color: #008080; text-decoration-color: #008080; font-weight: bold; text-decoration: underline\">0.1</span> | 💯 <span style=\"color: #000080; text-decoration-color: #000080; font-weight: bold\">Value</span>: <span style=\"color: #008080; text-decoration-color: #008080; font-weight: bold; text-decoration: underline\">-15000.0</span> | ➕ <span style=\"color: #800080; text-decoration-color: #800080; font-weight: bold\">Cum Value</span>: <span style=\"color: #008080; text-decoration-color: #008080; font-weight: bold; text-decoration: underline\">-15000.0</span> |              \n┃        ⭐ <span style=\"color: #008000; text-decoration-color: #008000; font-weight: bold\">Exp. Value</span>: <span style=\"color: #008080; text-decoration-color: #008080; font-weight: bold; text-decoration: underline\">-1500.0</span> |                                                            \n┗━━ 🚫🔻 <span style=\"font-weight: bold; text-decoration: underline\">no_otorgar</span> 💯 <span style=\"color: #000080; text-decoration-color: #000080; font-weight: bold\">Value</span>: <span style=\"color: #008080; text-decoration-color: #008080; font-weight: bold; text-decoration: underline\">0.0</span> | ➕ <span style=\"color: #800080; text-decoration-color: #800080; font-weight: bold\">Cum Value</span>: <span style=\"color: #008080; text-decoration-color: #008080; font-weight: bold; text-decoration: underline\">0.0</span> |                                      \n     ⭐ <span style=\"color: #008000; text-decoration-color: #008000; font-weight: bold\">Exp. Value</span>: <span style=\"color: #008080; text-decoration-color: #008080; font-weight: bold; text-decoration: underline\">0.0</span> |                                                                    \n</pre>\n"
     },
     "metadata": {},
     "execution_count": 5
    }
   ],
   "source": [
    "t.tree(expand_row=False)"
   ]
  },
  {
   "cell_type": "code",
   "execution_count": 6,
   "metadata": {},
   "outputs": [
    {
     "output_type": "execute_result",
     "data": {
      "text/plain": [
       "{'name': 'otorgar_credito?',\n",
       " 'type': <NodeType.decision_node: 'decision'>,\n",
       " 'value': 0.0,\n",
       " 'expected_value': 1200.0,\n",
       " 'cum_value': 0,\n",
       " 'children': [{'name': 'otorgar',\n",
       "   'type': <NodeType.random_node: 'random'>,\n",
       "   'value': 0.0,\n",
       "   'expected_value': 1200.0,\n",
       "   'cum_value': 0.0,\n",
       "   'children': [{'name': 'paga',\n",
       "     'type': <NodeType.end: 'end'>,\n",
       "     'value': 3000.0,\n",
       "     'expected_value': 2700.0,\n",
       "     'cum_value': 3000.0,\n",
       "     'children': None,\n",
       "     'utility_function': {'func': <function decisionpy.utility.utilityfunc.UtilityFunction.<lambda>(x)>},\n",
       "     'expected_value_func': None,\n",
       "     'probability': 0.9,\n",
       "     'path': None},\n",
       "    {'name': 'no_paga',\n",
       "     'type': <NodeType.end: 'end'>,\n",
       "     'value': -15000.0,\n",
       "     'expected_value': -1500.0,\n",
       "     'cum_value': -15000.0,\n",
       "     'children': None,\n",
       "     'utility_function': {'func': <function decisionpy.utility.utilityfunc.UtilityFunction.<lambda>(x)>},\n",
       "     'expected_value_func': None,\n",
       "     'probability': 0.1,\n",
       "     'path': None}],\n",
       "   'utility_function': {'func': <function decisionpy.utility.utilityfunc.UtilityFunction.<lambda>(x)>},\n",
       "   'expected_value_func': <function decisionpy.decisiontree.decisiontree.Node.check_expected_value_func.<locals>.<lambda>(x, y)>,\n",
       "   'probability': 1,\n",
       "   'path': None},\n",
       "  {'name': 'no_otorgar',\n",
       "   'type': <NodeType.end: 'end'>,\n",
       "   'value': 0.0,\n",
       "   'expected_value': 0.0,\n",
       "   'cum_value': 0.0,\n",
       "   'children': None,\n",
       "   'utility_function': {'func': <function decisionpy.utility.utilityfunc.UtilityFunction.<lambda>(x)>},\n",
       "   'expected_value_func': None,\n",
       "   'probability': 1,\n",
       "   'path': None}],\n",
       " 'utility_function': {'func': <function decisionpy.utility.utilityfunc.UtilityFunction.<lambda>(x)>},\n",
       " 'expected_value_func': <function decisionpy.decisiontree.decisiontree.Node.check_expected_value_func.<locals>.<lambda>(x, y)>,\n",
       " 'probability': 1,\n",
       " 'path': 'otorgar'}"
      ]
     },
     "metadata": {},
     "execution_count": 6
    }
   ],
   "source": [
    "t.dict()"
   ]
  },
  {
   "cell_type": "code",
   "execution_count": null,
   "metadata": {},
   "outputs": [],
   "source": []
  }
 ]
}
{
 "metadata": {
  "language_info": {
   "codemirror_mode": {
    "name": "ipython",
    "version": 3
   },
   "file_extension": ".py",
   "mimetype": "text/x-python",
   "name": "python",
   "nbconvert_exporter": "python",
   "pygments_lexer": "ipython3",
   "version": "3.8.8"
  },
  "orig_nbformat": 4,
  "kernelspec": {
   "name": "python3",
   "display_name": "Python 3.8.8 64-bit ('decisionpy': conda)"
  },
  "interpreter": {
   "hash": "dec5e0581fddb23ffc3cb134b2a92b0670ea09c64d0a86d0690e721ac6a329c6"
  }
 },
 "nbformat": 4,
 "nbformat_minor": 2,
 "cells": [
  {
   "source": [
    "# The Analytic Hierarchy Process"
   ],
   "cell_type": "markdown",
   "metadata": {}
  },
  {
   "cell_type": "code",
   "execution_count": 1,
   "metadata": {},
   "outputs": [],
   "source": [
    "import numpy as np\n",
    "from decisionpy.ahp import Matrix"
   ]
  },
  {
   "cell_type": "code",
   "execution_count": 2,
   "metadata": {},
   "outputs": [
    {
     "output_type": "execute_result",
     "data": {
      "text/plain": [
       "array([[1.        , 2.        , 6.        ],\n",
       "       [0.5       , 1.        , 3.        ],\n",
       "       [0.16666667, 0.33333333, 1.        ]])"
      ]
     },
     "metadata": {},
     "execution_count": 2
    }
   ],
   "source": [
    "A = np.array([[1,2,6],[0.5,1,3],[1/6,1/3,1]])\n",
    "W = np.array([0.6,0.3,0.1])\n",
    "A"
   ]
  },
  {
   "cell_type": "code",
   "execution_count": 3,
   "metadata": {},
   "outputs": [],
   "source": [
    "w,v = np.linalg.eig(A)"
   ]
  },
  {
   "cell_type": "code",
   "execution_count": 4,
   "metadata": {},
   "outputs": [],
   "source": [
    "ind_max = np.argmax(w)\n",
    "ind_max\n",
    "\n",
    "eigva = w[ind_max]\n",
    "eigvec = v[:,ind_max]\n",
    "eigvec_norm = eigvec / eigvec.sum()"
   ]
  },
  {
   "cell_type": "code",
   "execution_count": 5,
   "metadata": {},
   "outputs": [
    {
     "output_type": "execute_result",
     "data": {
      "text/plain": [
       "[[1.0, 2.0, 6.0],\n",
       " [0.5, 1.0, 3.0],\n",
       " [0.16666666666666666, 0.3333333333333333, 1.0]]"
      ]
     },
     "metadata": {},
     "execution_count": 5
    }
   ],
   "source": [
    "A.tolist()"
   ]
  },
  {
   "source": [
    "# AHP Matrix"
   ],
   "cell_type": "markdown",
   "metadata": {}
  },
  {
   "cell_type": "code",
   "execution_count": 6,
   "metadata": {},
   "outputs": [],
   "source": [
    "An = Matrix(\n",
    "    values = [[1,2,6],[0.5,1,3],[1/6,1/3,1]]\n",
    ")"
   ]
  },
  {
   "cell_type": "code",
   "execution_count": 7,
   "metadata": {},
   "outputs": [
    {
     "output_type": "execute_result",
     "data": {
      "text/plain": [
       "Matrix(values=[[1.0, 2.0, 6.0], [0.5, 1.0, 3.0], [0.16666666666666666, 0.3333333333333333, 1.0]])"
      ]
     },
     "metadata": {},
     "execution_count": 7
    }
   ],
   "source": [
    "An"
   ]
  },
  {
   "cell_type": "code",
   "execution_count": 8,
   "metadata": {},
   "outputs": [
    {
     "output_type": "execute_result",
     "data": {
      "text/plain": [
       "array([0.6, 0.3, 0.1])"
      ]
     },
     "metadata": {},
     "execution_count": 8
    }
   ],
   "source": [
    "weights = An.get_weights()\n",
    "weights"
   ]
  },
  {
   "cell_type": "code",
   "execution_count": 9,
   "metadata": {},
   "outputs": [
    {
     "output_type": "execute_result",
     "data": {
      "text/plain": [
       "-7.656710514656253e-16"
      ]
     },
     "metadata": {},
     "execution_count": 9
    }
   ],
   "source": [
    "An.consistency_ratio()"
   ]
  },
  {
   "source": [
    "## example 2 matrix"
   ],
   "cell_type": "markdown",
   "metadata": {}
  },
  {
   "cell_type": "code",
   "execution_count": 10,
   "metadata": {},
   "outputs": [],
   "source": [
    "b = [\n",
    "        [1,1/3,1/9,1/5],\n",
    "        [3,1,1,1],\n",
    "        [9,1,1,3],\n",
    "        [5,1,1/3,1]\n",
    "    ]"
   ]
  },
  {
   "cell_type": "code",
   "execution_count": 11,
   "metadata": {},
   "outputs": [],
   "source": [
    "B = Matrix(values=b)"
   ]
  },
  {
   "cell_type": "code",
   "execution_count": 12,
   "metadata": {},
   "outputs": [
    {
     "output_type": "execute_result",
     "data": {
      "text/plain": [
       "array([[1.        , 0.33333333, 0.11111111, 0.2       ],\n",
       "       [3.        , 1.        , 1.        , 1.        ],\n",
       "       [9.        , 1.        , 1.        , 3.        ],\n",
       "       [5.        , 1.        , 0.33333333, 1.        ]])"
      ]
     },
     "metadata": {},
     "execution_count": 12
    }
   ],
   "source": [
    "B.get_matrix()"
   ]
  },
  {
   "cell_type": "code",
   "execution_count": 13,
   "metadata": {},
   "outputs": [
    {
     "output_type": "execute_result",
     "data": {
      "text/plain": [
       "4"
      ]
     },
     "metadata": {},
     "execution_count": 13
    }
   ],
   "source": [
    "B.shape()"
   ]
  },
  {
   "cell_type": "code",
   "execution_count": 14,
   "metadata": {},
   "outputs": [
    {
     "output_type": "execute_result",
     "data": {
      "text/plain": [
       "array([0.05759632, 0.26632442, 0.45462607, 0.22145318])"
      ]
     },
     "metadata": {},
     "execution_count": 14
    }
   ],
   "source": [
    "B.get_weights()"
   ]
  },
  {
   "cell_type": "code",
   "execution_count": 15,
   "metadata": {},
   "outputs": [
    {
     "output_type": "execute_result",
     "data": {
      "text/plain": [
       "(0.06244887852833021+0j)"
      ]
     },
     "metadata": {},
     "execution_count": 15
    }
   ],
   "source": [
    "B.consistency()"
   ]
  },
  {
   "cell_type": "code",
   "execution_count": 16,
   "metadata": {},
   "outputs": [
    {
     "output_type": "execute_result",
     "data": {
      "text/plain": [
       "(0.0693876428092558+0j)"
      ]
     },
     "metadata": {},
     "execution_count": 16
    }
   ],
   "source": [
    "B.consistency_ratio()"
   ]
  },
  {
   "cell_type": "code",
   "execution_count": null,
   "metadata": {},
   "outputs": [],
   "source": []
  }
 ]
}